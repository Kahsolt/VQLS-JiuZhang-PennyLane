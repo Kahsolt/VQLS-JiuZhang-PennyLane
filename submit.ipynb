{
 "cells": [
  {
   "cell_type": "markdown",
   "metadata": {
    "tags": [
     "remove_cell"
    ]
   },
   "source": [
    "# Variational Quantum Linear Solver\n",
    "\n",
    "This demo shows how to apply the Variational Quantum Eigen-Solver (VQE) method to solve the following linear equation $ A x = b $:\n",
    "\n",
    "$$\n",
    "\\begin{array}{ll}\n",
    "\\begin{bmatrix}\n",
    "   2 &  5 & -13 \\\\\n",
    "   3 & -9 &   3 \\\\\n",
    "  -5 &  6 &   8 \\\\\n",
    "\\end{bmatrix} \\begin{bmatrix}\n",
    "  12 \\\\\n",
    "  5 \\\\\n",
    "  3 \\\\\n",
    "\\end{bmatrix} = \\begin{bmatrix}\n",
    "  10 \\\\\n",
    "  0 \\\\\n",
    "  -6 \\\\\n",
    "\\end{bmatrix}\n",
    "\\end{array}\n",
    "$$\n",
    "\n",
    "Note that compared with the original problem, we've divided by 100 at both side. This is harmless since they are equivalent."
   ]
  },
  {
   "cell_type": "markdown",
   "metadata": {},
   "source": [
    "### Step 1: Pre-process"
   ]
  },
  {
   "cell_type": "markdown",
   "metadata": {},
   "source": [
    "First, quantum circuits are capable to handle matrix whose dimension is power of 2. Let's expand the equation from 3x3 to 4x4!  \n",
    "To be specific, we add a constant **1** to right-bottom corner of $ A $, $ x $ and $ b $, calling it **scaling indicator** as we'll use it to decode the de-normalized solution from a normalized quantum state later.  \n",
    "\n",
    "$$\n",
    "\\begin{array}{ll}\n",
    "\\begin{bmatrix}\n",
    "   2 &  5 & -13 & 0 \\\\\n",
    "   3 & -9 &   3 & 0 \\\\\n",
    "  -5 &  6 &   8 & 0 \\\\\n",
    "   0 &  0 &   0 & 1 \\\\\n",
    "\\end{bmatrix} \\begin{bmatrix}\n",
    "  12 \\\\\n",
    "  5 \\\\\n",
    "  3 \\\\\n",
    "  1 \\\\\n",
    "\\end{bmatrix} = \\begin{bmatrix}\n",
    "  10 \\\\\n",
    "  0 \\\\\n",
    "  -6 \\\\\n",
    "  1 \\\\\n",
    "\\end{bmatrix}\n",
    "\\end{array}\n",
    "$$\n",
    "\n",
    "Second, following the VQE procedure, the right-hand vector b is required to be a valid quantum state $ \\left| b \\right> $, hence we divide both side by $ ||b|| $ to make it a unit vector, turning this equation into $ \\tilde A \\tilde x = \\tilde b $:\n",
    "\n",
    "$$\n",
    "\\begin{array}{ll}\n",
    "\\begin{bmatrix}\n",
    "   0.1709 &  0.4272 & -1.1107 & 0.     \\\\\n",
    "   0.2563 & -0.7689 &  0.2563 & 0.     \\\\\n",
    "  -0.4272 &  0.5126 &  0.6835 & 0.     \\\\\n",
    "   0.     &  0.     &  0.     & 0.0854 \\\\\n",
    "\\end{bmatrix} \\begin{bmatrix}\n",
    "  12 \\\\\n",
    "  5 \\\\\n",
    "  3 \\\\\n",
    "  1 \\\\\n",
    "\\end{bmatrix} = \\begin{bmatrix}\n",
    "  0.8544 \\\\\n",
    "  0.     \\\\\n",
    " -0.5126 \\\\\n",
    "  0.0854 \\\\\n",
    "\\end{bmatrix}\n",
    "\\end{array}\n",
    "$$"
   ]
  },
  {
   "cell_type": "code",
   "execution_count": 1,
   "metadata": {},
   "outputs": [
    {
     "name": "stdout",
     "output_type": "stream",
     "text": [
      "[Equation (preprocessed)]\n",
      "A: (norm=1.757, shape=(4, 4))\n",
      "[[ 0.1709  0.4272 -1.1107  0.    ]\n",
      " [ 0.2563 -0.7689  0.2563  0.    ]\n",
      " [-0.4272  0.5126  0.6835  0.    ]\n",
      " [ 0.      0.      0.      0.0854]]\n",
      "|b>: (norm=1, shape=(4, 1))\n",
      "[[ 0.8544]\n",
      " [ 0.    ]\n",
      " [-0.5126]\n",
      " [ 0.0854]]\n"
     ]
    }
   ],
   "source": [
    "from typing import Tuple\n",
    "import numpy as np\n",
    "from numpy import ndarray\n",
    "\n",
    "def print_matrix(A:ndarray, name:str='A'):\n",
    "  print(f'{name}: (norm={np.linalg.norm(A):.4g}, shape={A.shape})')\n",
    "  print(A.round(4))\n",
    "\n",
    "def preprocess() -> Tuple[ndarray, ndarray]:\n",
    "  # MAGIC: we add a scaling indicator 1 at the right-bottom of the expanded space\n",
    "  # it tells us how to rescale the normalized quantum solution back to real :)\n",
    "  Am_ex = np.asarray([\n",
    "    [ 2,  5, -13, 0],\n",
    "    [ 3, -9,   3, 0],\n",
    "    [-5,  6,   8, 0],\n",
    "    [ 0,  0,   0, 1],\n",
    "  ])\n",
    "  bv_ex = np.asarray([[10, 0, -6, 1]]).T\n",
    "  # normalize\n",
    "  A = Am_ex / np.linalg.norm(bv_ex)\n",
    "  b = bv_ex / np.linalg.norm(bv_ex)   # |b>\n",
    "  return A, b\n",
    "\n",
    "A, b = preprocess()\n",
    "print('[Equation (preprocessed)]')\n",
    "print_matrix(A, 'A')\n",
    "print_matrix(b, '|b>')"
   ]
  },
  {
   "cell_type": "markdown",
   "metadata": {},
   "source": [
    "### Step 2: VQE procedure\n",
    "\n",
    "To briefly explain VQE, one need to design a **Hamiltonian** H and a parametrized **ansatz** $ U(\\theta) $, then minimize the hamiltonian expection $ E = \\left< x | H | x \\right> $ by **optimizing** with parameters $ \\theta $.  \n",
    "When $ E $ reaches the minimal, the ansatz-state $ \\left| x \\right> = U(\\theta) \\left| 0 \\right> $ will become the ground-state of H, and the expectation value will be the ground-state energy."
   ]
  },
  {
   "cell_type": "markdown",
   "metadata": {},
   "source": [
    "⚪ Hamiltonian design\n",
    "\n",
    "Following essay [arXiv:1909.03898](https://arxiv.org/abs/1909.03898), we define the Hamiltonian $ H_A = A^\\dagger (I - \\left| b \\right> \\left< b \\right|) A $, and one can easily verify that the normalized quantum state $ \\left| \\hat x \\right> = \\frac{\\tilde x}{||\\tilde x||} $ is right the ground-state of $ H_A $ with energy 0."
   ]
  },
  {
   "cell_type": "code",
   "execution_count": 2,
   "metadata": {},
   "outputs": [
    {
     "name": "stdout",
     "output_type": "stream",
     "text": [
      "[Hamiltonian]\n",
      "H_A: (norm=1.203, shape=(4, 4))\n",
      "[[ 1.4420e-01 -3.8040e-01  5.8100e-02 -2.7000e-03]\n",
      " [-3.8040e-01  1.0261e+00 -1.8840e-01 -7.0000e-04]\n",
      " [ 5.8100e-02 -1.8840e-01  7.8300e-02  9.5000e-03]\n",
      " [-2.7000e-03 -7.0000e-04  9.5000e-03  7.2000e-03]]\n"
     ]
    }
   ],
   "source": [
    "n_qubits = int(np.ceil(np.log2(A.shape[0])))\n",
    "H_A = A.conj().T @ (np.eye(2**n_qubits) - b @ b.conj().T) @ A    # Eq. 6\n",
    "print('[Hamiltonian]')\n",
    "print_matrix(H_A, 'H_A')"
   ]
  },
  {
   "cell_type": "markdown",
   "metadata": {},
   "source": [
    "⚪ Ansatz design\n",
    "\n",
    "Then we're to design a parametrized ansatz to prepare this state $ \\left| \\hat x \\right> $.  \n",
    "We found this circuit below consisting of 3 RY gates and 1 CNOT gate will just do it, and it only has 3 trainable parameters in the RY gates.  "
   ]
  },
  {
   "cell_type": "code",
   "execution_count": 3,
   "metadata": {},
   "outputs": [
    {
     "name": "stdout",
     "output_type": "stream",
     "text": [
      "[Ansatz]\n"
     ]
    },
    {
     "data": {
      "image/png": "[encoded data removed]",
      "text/plain": [
       "<Figure size 445x248 with 1 Axes>"
      ]
     },
     "metadata": {},
     "output_type": "display_data"
    }
   ],
   "source": [
    "from spinqit import Circuit, Ry, CNOT\n",
    "from spinqit.view import draw\n",
    "from spinqit import get_compiler\n",
    "\n",
    "print('[Ansatz]')\n",
    "circ = Circuit()\n",
    "qv = circ.allocateQubits(n_qubits)\n",
    "circ << (Ry, qv[0], 0)\n",
    "circ << (Ry, qv[1], 0)\n",
    "circ << (CNOT, [qv[0], qv[1]])\n",
    "circ << (Ry, qv[0], 0)\n",
    "compiler = get_compiler('native')\n",
    "ir = compiler.compile(circ, level=0)\n",
    "draw(ir)"
   ]
  },
  {
   "cell_type": "markdown",
   "metadata": {},
   "source": [
    "⚪ Parameter optimizing\n",
    "\n",
    "We implemented this part using both PennyLane and SpinQit, please refer to [run_VALA.py](./run_VALA.py) and [run_VALA_spinqit.py](./run_VALA_spinqit.py), respectively.  \n",
    "NOTE: the PennyLane implementation has slight better numerical accuracy than the SpinQit one, we'd prefer it.\n",
    "\n",
    "The optimizer configs are: SGD with momentum, n_iter=3000, lr=1.5  \n",
    "We zero-initialize all the parameters, and finally got [-0.047208991809220814, 0.7808882554867012, 0.509390326201012] after training.  \n",
    "\n",
    "![run](./img/run_VALA.png)"
   ]
  },
  {
   "cell_type": "markdown",
   "metadata": {},
   "source": [
    "### Step 3: Run the pretrained circuit\n",
    "\n",
    "Once the trainable parameters are well-optimized, we can run the circuit to obtain the ansatz-state, which corresponds to the ground-state of the Hamiltonian, and also corresponds to the solution of our expanded equation.  \n",
    "What we care about most is the `state`, i.e. the quantum state amplitude. It should be real vector that encodes the normalized solution $ \\left| \\hat x \\right> = \\frac{\\tilde x}{||\\tilde x||} $ corresponding to the original algebraic solution $ x $."
   ]
  },
  {
   "cell_type": "code",
   "execution_count": 4,
   "metadata": {},
   "outputs": [
    {
     "name": "stdout",
     "output_type": "stream",
     "text": [
      "[Theoretical Results]\n",
      "state: [0.8969221113267619, 0.37371754633444176, 0.22423052780399913, 0.07474350925430306]\n",
      "probs: [0.8044692737868563, 0.13966480443823562, 0.05027932959926003, 0.005586592175648088]\n",
      "[Practical Results]\n",
      "counts: [80447, 13966, 5028, 559]\n",
      "freqs: [0.80447, 0.13966, 0.05028, 0.00559]\n"
     ]
    }
   ],
   "source": [
    "from spinqit import get_basic_simulator, get_compiler, BasicSimulatorConfig\n",
    "\n",
    "shots = 100000\n",
    "\n",
    "compiler = get_compiler('qasm')\n",
    "exe = compiler.compile('log/run_VALA.qasm', level=0)    # load pretrained params\n",
    "engine = get_basic_simulator()\n",
    "config = BasicSimulatorConfig()\n",
    "config.configure_shots(shots)\n",
    "result = engine.execute(exe, config)\n",
    "\n",
    "keys = ['00', '01', '10', '11']\n",
    "state = [it.real for it in result.states]\n",
    "probs = [result.probabilities.get(key, 0.0) for key in keys]\n",
    "print('[Theoretical Results]')\n",
    "print('state:', state)\n",
    "print('probs:', probs)\n",
    "counts = [result.counts.get(key, 0) for key in keys]\n",
    "freqs = [result.counts.get(key, 0) / shots for key in keys]\n",
    "print('[Practical Results]')\n",
    "print('counts:', counts)\n",
    "print('freqs:', freqs)"
   ]
  },
  {
   "cell_type": "markdown",
   "metadata": {},
   "source": [
    "### Step 4: Post-process\n",
    "\n",
    "In order to decode the desired solution $ x $ from the measured quantum results $ \\left| \\hat x \\right> $ above, we need some additional classical operations.  \n",
    "Firstly, we define several utility functions, and set up the ground truth for precision evaluations. Then we discuss of both simulator and real-chip situations.  "
   ]
  },
  {
   "cell_type": "code",
   "execution_count": 5,
   "metadata": {},
   "outputs": [
    {
     "name": "stdout",
     "output_type": "stream",
     "text": [
      "The algebraic solution truth: [12  5  3]\n",
      "The quantum solution truth: [0.89692211 0.37371755 0.22423053 0.07474351]\n"
     ]
    }
   ],
   "source": [
    "import numpy as np\n",
    "from numpy import ndarray\n",
    "\n",
    "def state_norm(psi:ndarray) -> ndarray:\n",
    "  return psi / np.linalg.norm(psi)\n",
    "\n",
    "def get_fidelity(psi:ndarray, phi:ndarray) -> float:\n",
    "  return np.abs(np.dot(psi.conj().T, phi)).item()\n",
    "\n",
    "def get_L1_error(x:ndarray, y:ndarray) -> float:\n",
    "  return np.abs(x - y).mean().item()\n",
    "\n",
    "def postprocess(x_tilde:ndarray) -> ndarray:\n",
    "  global x_gt\n",
    "  x_hat = x_tilde / x_tilde[-1].item()\n",
    "  x_hat = x_hat[:len(x_gt)]\n",
    "  return x_hat\n",
    "\n",
    "# The algebraic target solution\n",
    "x_gt = np.asarray([12, 5, 3])\n",
    "# The quantum target solution, corresponding to the ansatz-state\n",
    "x_state_gt = state_norm(np.asarray([12, 5, 3, 1]))\n",
    "\n",
    "print('The algebraic solution truth:', x_gt)\n",
    "print('The quantum solution truth:', x_state_gt)"
   ]
  },
  {
   "cell_type": "markdown",
   "metadata": {},
   "source": [
    "⚪ Simulator\n",
    "\n",
    "For simulators, we can access `state` and `probs`, and recover a very ideal solution :)  \n",
    "As shown below, the fidelity just reaches perfect `1.0` at the quantum side, and the L1 error is less than `1e-8` at the decoded algebraic side.  "
   ]
  },
  {
   "cell_type": "code",
   "execution_count": 6,
   "metadata": {},
   "outputs": [
    {
     "name": "stdout",
     "output_type": "stream",
     "text": [
      "The quantum solution: [0.8969221113267619, 0.37371754633444176, 0.22423052780399913, 0.07474350925430306]\n",
      ">> fidelity: 1.0\n",
      "The decoded algebraic solution: [12.  5.  3.]\n",
      ">> L1 error: 1.6908560477683447e-09\n"
     ]
    }
   ],
   "source": [
    "print('The quantum solution:', state)\n",
    "print('>> fidelity:', get_fidelity(np.asarray(state), x_state_gt))\n",
    "\n",
    "x_hat_s = postprocess(np.asarray(state))\n",
    "print('The decoded algebraic solution:', x_hat_s)\n",
    "print('>> L1 error:', get_L1_error(x_hat_s, x_gt))"
   ]
  },
  {
   "cell_type": "markdown",
   "metadata": {},
   "source": [
    "⚪ Real-Chip\n",
    "\n",
    "For real-hardware devices, we can only access `counts` and `freqs`, hence get an approximated solution :(  \n",
    "Here we use `shots=1e5`, hence the theoretical precision of `fidelity` will be about `1e-8`, though in practice it reaches a better `1e-9` here.  \n",
    "And the decoded solution shows a magnitude of `1e-3` in L1 error, just acceptible.  "
   ]
  },
  {
   "cell_type": "code",
   "execution_count": 7,
   "metadata": {},
   "outputs": [
    {
     "name": "stdout",
     "output_type": "stream",
     "text": [
      "The quantum solution (approx): [0.89692252 0.37371112 0.22423202 0.0747663 ]\n",
      ">> fidelity: 0.999999999718374\n",
      "The decoded algebraic solution: [11.99634709  4.99838972  2.99910541]\n",
      ">> L1 error: 0.002052592112998427\n"
     ]
    }
   ],
   "source": [
    "# approximate the state amplitudes from Q-measured frequency, up to a sign (±)\n",
    "state_approx = np.sqrt(freqs)\n",
    "print('The quantum solution (approx):', state_approx)\n",
    "print('>> fidelity:', get_fidelity(state_approx, x_state_gt))\n",
    "\n",
    "x_hat_r = postprocess(state_approx)\n",
    "print('The decoded algebraic solution:', x_hat_r)\n",
    "print('>> L1 error:', get_L1_error(x_hat_r, x_gt))"
   ]
  },
  {
   "cell_type": "markdown",
   "metadata": {},
   "source": [
    "⚪ In the Context of the Problem\n",
    "\n",
    "Note that the raw numerical answer is rather dense (it is floating-point represented), however, we should descretize it if the problem has a discretized structure.  \n",
    "For this concrete linear equation semantics, where **we know the solution should be all integers a priori**, we can just round it up to make the final answer zero-error :)  "
   ]
  },
  {
   "cell_type": "code",
   "execution_count": 8,
   "metadata": {},
   "outputs": [
    {
     "name": "stdout",
     "output_type": "stream",
     "text": [
      "The final simulator solution: [12  5  3]\n",
      ">> L1 error: 0.0\n",
      "The final real-chip solution: [12  5  3]\n",
      ">> L1 error: 0.0\n"
     ]
    }
   ],
   "source": [
    "x_hat_s_i = x_hat_s.round().astype(np.int32)\n",
    "x_hat_r_i = x_hat_r.round().astype(np.int32)\n",
    "\n",
    "print('The final simulator solution:', x_hat_s_i)\n",
    "print('>> L1 error:', get_L1_error(x_hat_s_i, x_gt))\n",
    "print('The final real-chip solution:', x_hat_r_i)\n",
    "print('>> L1 error:', get_L1_error(x_hat_r_i, x_gt))"
   ]
  }
 ],
 "metadata": {
  "kernelspec": {
   "display_name": "Python 3 (ipykernel)",
   "language": "python",
   "name": "python3"
  },
  "language_info": {
   "codemirror_mode": {
    "name": "ipython",
    "version": 3
   },
   "file_extension": ".py",
   "mimetype": "text/x-python",
   "name": "python",
   "nbconvert_exporter": "python",
   "pygments_lexer": "ipython3",
   "version": "3.9.19"
  },
  "widgets": {
   "application/vnd.jupyter.widget-state+json": {
    "state": {
     "17046f96803d48aa8c63b99a5c89e6f3": {
      "model_module": "@jupyter-widgets/controls",
      "model_module_version": "1.5.0",
      "model_name": "DescriptionStyleModel",
      "state": {
       "_model_module": "@jupyter-widgets/controls",
       "_model_module_version": "1.5.0",
       "_model_name": "DescriptionStyleModel",
       "_view_count": null,
       "_view_module": "@jupyter-widgets/base",
       "_view_module_version": "1.2.0",
       "_view_name": "StyleView",
       "description_width": ""
      }
     },
     "1a46e33438a648dd839fe5fd43b9582b": {
      "model_module": "@jupyter-widgets/controls",
      "model_module_version": "1.5.0",
      "model_name": "DescriptionStyleModel",
      "state": {
       "_model_module": "@jupyter-widgets/controls",
       "_model_module_version": "1.5.0",
       "_model_name": "DescriptionStyleModel",
       "_view_count": null,
       "_view_module": "@jupyter-widgets/base",
       "_view_module_version": "1.2.0",
       "_view_name": "StyleView",
       "description_width": ""
      }
     },
     "1f812fe9a02b41b885f01e3190957acf": {
      "model_module": "@jupyter-widgets/base",
      "model_module_version": "1.2.0",
      "model_name": "LayoutModel",
      "state": {
       "_model_module": "@jupyter-widgets/base",
       "_model_module_version": "1.2.0",
       "_model_name": "LayoutModel",
       "_view_count": null,
       "_view_module": "@jupyter-widgets/base",
       "_view_module_version": "1.2.0",
       "_view_name": "LayoutView",
       "align_content": null,
       "align_items": null,
       "align_self": null,
       "border": null,
       "bottom": null,
       "display": null,
       "flex": null,
       "flex_flow": null,
       "grid_area": null,
       "grid_auto_columns": null,
       "grid_auto_flow": null,
       "grid_auto_rows": null,
       "grid_column": null,
       "grid_gap": null,
       "grid_row": null,
       "grid_template_areas": "\n                                       \". . . . right \"\n                                        ",
       "grid_template_columns": "20% 20% 20% 20% 20%",
       "grid_template_rows": null,
       "height": null,
       "justify_content": null,
       "justify_items": null,
       "left": null,
       "margin": null,
       "max_height": null,
       "max_width": null,
       "min_height": null,
       "min_width": null,
       "object_fit": null,
       "object_position": null,
       "order": null,
       "overflow": null,
       "overflow_x": null,
       "overflow_y": null,
       "padding": null,
       "right": null,
       "top": null,
       "visibility": null,
       "width": "100%"
      }
     },
     "20439ee3a84741dc9a137f7964898fc3": {
      "model_module": "@jupyter-widgets/controls",
      "model_module_version": "1.5.0",
      "model_name": "HTMLModel",
      "state": {
       "_dom_classes": [],
       "_model_module": "@jupyter-widgets/controls",
       "_model_module_version": "1.5.0",
       "_model_name": "HTMLModel",
       "_view_count": null,
       "_view_module": "@jupyter-widgets/controls",
       "_view_module_version": "1.5.0",
       "_view_name": "HTMLView",
       "description": "",
       "description_tooltip": null,
       "layout": "IPY_MODEL_f0e6a746eff140269e915ef65de640c7",
       "placeholder": "​",
       "style": "IPY_MODEL_96316857896d44328b3898d849594ae7",
       "value": "<h5>Status</h5>"
      }
     },
     "246d39f98fdb4892bc1d5bfb88d2f1cd": {
      "model_module": "@jupyter-widgets/controls",
      "model_module_version": "1.5.0",
      "model_name": "DescriptionStyleModel",
      "state": {
       "_model_module": "@jupyter-widgets/controls",
       "_model_module_version": "1.5.0",
       "_model_name": "DescriptionStyleModel",
       "_view_count": null,
       "_view_module": "@jupyter-widgets/base",
       "_view_module_version": "1.2.0",
       "_view_name": "StyleView",
       "description_width": ""
      }
     },
     "27e0478b2a9c4533b2e67eac937cbebc": {
      "model_module": "@jupyter-widgets/controls",
      "model_module_version": "1.5.0",
      "model_name": "HBoxModel",
      "state": {
       "_dom_classes": [],
       "_model_module": "@jupyter-widgets/controls",
       "_model_module_version": "1.5.0",
       "_model_name": "HBoxModel",
       "_view_count": null,
       "_view_module": "@jupyter-widgets/controls",
       "_view_module_version": "1.5.0",
       "_view_name": "HBoxView",
       "box_style": "",
       "children": [
        "IPY_MODEL_ac5a0f78ef8140a2abdf035fd1751936",
        "IPY_MODEL_5ff6f36eaa894a339210fc29fdbeedcf",
        "IPY_MODEL_20439ee3a84741dc9a137f7964898fc3",
        "IPY_MODEL_eef64edafd8f47c885da65fa3ca0ab8a",
        "IPY_MODEL_a38db3ffdfc848c0b0150e42b3509be5"
       ],
       "layout": "IPY_MODEL_fc018f99fbb44aa9beb54a8e6be5209e"
      }
     },
     "2f981df37e914685992f4564103ef872": {
      "model_module": "@jupyter-widgets/base",
      "model_module_version": "1.2.0",
      "model_name": "LayoutModel",
      "state": {
       "_model_module": "@jupyter-widgets/base",
       "_model_module_version": "1.2.0",
       "_model_name": "LayoutModel",
       "_view_count": null,
       "_view_module": "@jupyter-widgets/base",
       "_view_module_version": "1.2.0",
       "_view_name": "LayoutView",
       "align_content": null,
       "align_items": null,
       "align_self": null,
       "border": null,
       "bottom": null,
       "display": null,
       "flex": null,
       "flex_flow": null,
       "grid_area": null,
       "grid_auto_columns": null,
       "grid_auto_flow": null,
       "grid_auto_rows": null,
       "grid_column": null,
       "grid_gap": null,
       "grid_row": null,
       "grid_template_areas": null,
       "grid_template_columns": null,
       "grid_template_rows": null,
       "height": null,
       "justify_content": null,
       "justify_items": null,
       "left": null,
       "margin": null,
       "max_height": null,
       "max_width": null,
       "min_height": null,
       "min_width": null,
       "object_fit": null,
       "object_position": null,
       "order": null,
       "overflow": null,
       "overflow_x": null,
       "overflow_y": null,
       "padding": null,
       "right": null,
       "top": null,
       "visibility": null,
       "width": null
      }
     },
     "3aa67247d1a9433f87b13ce1370c8b1c": {
      "model_module": "@jupyter-widgets/base",
      "model_module_version": "1.2.0",
      "model_name": "LayoutModel",
      "state": {
       "_model_module": "@jupyter-widgets/base",
       "_model_module_version": "1.2.0",
       "_model_name": "LayoutModel",
       "_view_count": null,
       "_view_module": "@jupyter-widgets/base",
       "_view_module_version": "1.2.0",
       "_view_name": "LayoutView",
       "align_content": null,
       "align_items": null,
       "align_self": null,
       "border": null,
       "bottom": null,
       "display": null,
       "flex": null,
       "flex_flow": null,
       "grid_area": null,
       "grid_auto_columns": null,
       "grid_auto_flow": null,
       "grid_auto_rows": null,
       "grid_column": null,
       "grid_gap": null,
       "grid_row": null,
       "grid_template_areas": null,
       "grid_template_columns": null,
       "grid_template_rows": null,
       "height": null,
       "justify_content": null,
       "justify_items": null,
       "left": null,
       "margin": null,
       "max_height": null,
       "max_width": null,
       "min_height": null,
       "min_width": null,
       "object_fit": null,
       "object_position": null,
       "order": null,
       "overflow": null,
       "overflow_x": null,
       "overflow_y": null,
       "padding": null,
       "right": null,
       "top": null,
       "visibility": null,
       "width": "190px"
      }
     },
     "40a8f99fef5b4aad89f533edcb091c3f": {
      "model_module": "@jupyter-widgets/controls",
      "model_module_version": "1.5.0",
      "model_name": "ButtonStyleModel",
      "state": {
       "_model_module": "@jupyter-widgets/controls",
       "_model_module_version": "1.5.0",
       "_model_name": "ButtonStyleModel",
       "_view_count": null,
       "_view_module": "@jupyter-widgets/base",
       "_view_module_version": "1.2.0",
       "_view_name": "StyleView",
       "button_color": null,
       "font_weight": ""
      }
     },
     "46f75da5f7ab4f33b4df8618ccffde6b": {
      "model_module": "@jupyter-widgets/controls",
      "model_module_version": "1.5.0",
      "model_name": "DescriptionStyleModel",
      "state": {
       "_model_module": "@jupyter-widgets/controls",
       "_model_module_version": "1.5.0",
       "_model_name": "DescriptionStyleModel",
       "_view_count": null,
       "_view_module": "@jupyter-widgets/base",
       "_view_module_version": "1.2.0",
       "_view_name": "StyleView",
       "description_width": ""
      }
     },
     "5ff6f36eaa894a339210fc29fdbeedcf": {
      "model_module": "@jupyter-widgets/controls",
      "model_module_version": "1.5.0",
      "model_name": "HTMLModel",
      "state": {
       "_dom_classes": [],
       "_model_module": "@jupyter-widgets/controls",
       "_model_module_version": "1.5.0",
       "_model_name": "HTMLModel",
       "_view_count": null,
       "_view_module": "@jupyter-widgets/controls",
       "_view_module_version": "1.5.0",
       "_view_name": "HTMLView",
       "description": "",
       "description_tooltip": null,
       "layout": "IPY_MODEL_9e036ff6f31e4efb9471d371db06f533",
       "placeholder": "​",
       "style": "IPY_MODEL_1a46e33438a648dd839fe5fd43b9582b",
       "value": "<h5>Backend</h5>"
      }
     },
     "608e06da96f840e890006ad286afc34b": {
      "model_module": "@jupyter-widgets/controls",
      "model_module_version": "1.5.0",
      "model_name": "HTMLModel",
      "state": {
       "_dom_classes": [],
       "_model_module": "@jupyter-widgets/controls",
       "_model_module_version": "1.5.0",
       "_model_name": "HTMLModel",
       "_view_count": null,
       "_view_module": "@jupyter-widgets/controls",
       "_view_module_version": "1.5.0",
       "_view_name": "HTMLView",
       "description": "",
       "description_tooltip": null,
       "layout": "IPY_MODEL_74038cd5fbe8491ba5457f6cc81f7b5a",
       "placeholder": "​",
       "style": "IPY_MODEL_8569084253df4279b752a85c0b99027b",
       "value": "<p style='font-family: IBM Plex Sans, Arial, Helvetica, sans-serif; font-size: 20px; font-weight: medium;'>Circuit Properties</p>"
      }
     },
     "74038cd5fbe8491ba5457f6cc81f7b5a": {
      "model_module": "@jupyter-widgets/base",
      "model_module_version": "1.2.0",
      "model_name": "LayoutModel",
      "state": {
       "_model_module": "@jupyter-widgets/base",
       "_model_module_version": "1.2.0",
       "_model_name": "LayoutModel",
       "_view_count": null,
       "_view_module": "@jupyter-widgets/base",
       "_view_module_version": "1.2.0",
       "_view_name": "LayoutView",
       "align_content": null,
       "align_items": null,
       "align_self": null,
       "border": null,
       "bottom": null,
       "display": null,
       "flex": null,
       "flex_flow": null,
       "grid_area": null,
       "grid_auto_columns": null,
       "grid_auto_flow": null,
       "grid_auto_rows": null,
       "grid_column": null,
       "grid_gap": null,
       "grid_row": null,
       "grid_template_areas": null,
       "grid_template_columns": null,
       "grid_template_rows": null,
       "height": null,
       "justify_content": null,
       "justify_items": null,
       "left": null,
       "margin": "0px 0px 10px 0px",
       "max_height": null,
       "max_width": null,
       "min_height": null,
       "min_width": null,
       "object_fit": null,
       "object_position": null,
       "order": null,
       "overflow": null,
       "overflow_x": null,
       "overflow_y": null,
       "padding": null,
       "right": null,
       "top": null,
       "visibility": null,
       "width": null
      }
     },
     "8569084253df4279b752a85c0b99027b": {
      "model_module": "@jupyter-widgets/controls",
      "model_module_version": "1.5.0",
      "model_name": "DescriptionStyleModel",
      "state": {
       "_model_module": "@jupyter-widgets/controls",
       "_model_module_version": "1.5.0",
       "_model_name": "DescriptionStyleModel",
       "_view_count": null,
       "_view_module": "@jupyter-widgets/base",
       "_view_module_version": "1.2.0",
       "_view_name": "StyleView",
       "description_width": ""
      }
     },
     "917c693fd8d84f2e99f59d75cd5062c2": {
      "model_module": "@jupyter-widgets/controls",
      "model_module_version": "1.5.0",
      "model_name": "GridBoxModel",
      "state": {
       "_dom_classes": [],
       "_model_module": "@jupyter-widgets/controls",
       "_model_module_version": "1.5.0",
       "_model_name": "GridBoxModel",
       "_view_count": null,
       "_view_module": "@jupyter-widgets/controls",
       "_view_module_version": "1.5.0",
       "_view_name": "GridBoxView",
       "box_style": "",
       "children": [
        "IPY_MODEL_b7e87c3bbc404502ab1550d64f86c473"
       ],
       "layout": "IPY_MODEL_1f812fe9a02b41b885f01e3190957acf"
      }
     },
     "96316857896d44328b3898d849594ae7": {
      "model_module": "@jupyter-widgets/controls",
      "model_module_version": "1.5.0",
      "model_name": "DescriptionStyleModel",
      "state": {
       "_model_module": "@jupyter-widgets/controls",
       "_model_module_version": "1.5.0",
       "_model_name": "DescriptionStyleModel",
       "_view_count": null,
       "_view_module": "@jupyter-widgets/base",
       "_view_module_version": "1.2.0",
       "_view_name": "StyleView",
       "description_width": ""
      }
     },
     "9e036ff6f31e4efb9471d371db06f533": {
      "model_module": "@jupyter-widgets/base",
      "model_module_version": "1.2.0",
      "model_name": "LayoutModel",
      "state": {
       "_model_module": "@jupyter-widgets/base",
       "_model_module_version": "1.2.0",
       "_model_name": "LayoutModel",
       "_view_count": null,
       "_view_module": "@jupyter-widgets/base",
       "_view_module_version": "1.2.0",
       "_view_name": "LayoutView",
       "align_content": null,
       "align_items": null,
       "align_self": null,
       "border": null,
       "bottom": null,
       "display": null,
       "flex": null,
       "flex_flow": null,
       "grid_area": null,
       "grid_auto_columns": null,
       "grid_auto_flow": null,
       "grid_auto_rows": null,
       "grid_column": null,
       "grid_gap": null,
       "grid_row": null,
       "grid_template_areas": null,
       "grid_template_columns": null,
       "grid_template_rows": null,
       "height": null,
       "justify_content": null,
       "justify_items": null,
       "left": null,
       "margin": null,
       "max_height": null,
       "max_width": null,
       "min_height": null,
       "min_width": null,
       "object_fit": null,
       "object_position": null,
       "order": null,
       "overflow": null,
       "overflow_x": null,
       "overflow_y": null,
       "padding": null,
       "right": null,
       "top": null,
       "visibility": null,
       "width": "145px"
      }
     },
     "a38db3ffdfc848c0b0150e42b3509be5": {
      "model_module": "@jupyter-widgets/controls",
      "model_module_version": "1.5.0",
      "model_name": "HTMLModel",
      "state": {
       "_dom_classes": [],
       "_model_module": "@jupyter-widgets/controls",
       "_model_module_version": "1.5.0",
       "_model_name": "HTMLModel",
       "_view_count": null,
       "_view_module": "@jupyter-widgets/controls",
       "_view_module_version": "1.5.0",
       "_view_name": "HTMLView",
       "description": "",
       "description_tooltip": null,
       "layout": "IPY_MODEL_2f981df37e914685992f4564103ef872",
       "placeholder": "​",
       "style": "IPY_MODEL_246d39f98fdb4892bc1d5bfb88d2f1cd",
       "value": "<h5>Message</h5>"
      }
     },
     "ac5a0f78ef8140a2abdf035fd1751936": {
      "model_module": "@jupyter-widgets/controls",
      "model_module_version": "1.5.0",
      "model_name": "HTMLModel",
      "state": {
       "_dom_classes": [],
       "_model_module": "@jupyter-widgets/controls",
       "_model_module_version": "1.5.0",
       "_model_name": "HTMLModel",
       "_view_count": null,
       "_view_module": "@jupyter-widgets/controls",
       "_view_module_version": "1.5.0",
       "_view_name": "HTMLView",
       "description": "",
       "description_tooltip": null,
       "layout": "IPY_MODEL_3aa67247d1a9433f87b13ce1370c8b1c",
       "placeholder": "​",
       "style": "IPY_MODEL_46f75da5f7ab4f33b4df8618ccffde6b",
       "value": "<h5>Job ID</h5>"
      }
     },
     "b7e87c3bbc404502ab1550d64f86c473": {
      "model_module": "@jupyter-widgets/controls",
      "model_module_version": "1.5.0",
      "model_name": "ButtonModel",
      "state": {
       "_dom_classes": [],
       "_model_module": "@jupyter-widgets/controls",
       "_model_module_version": "1.5.0",
       "_model_name": "ButtonModel",
       "_view_count": null,
       "_view_module": "@jupyter-widgets/controls",
       "_view_module_version": "1.5.0",
       "_view_name": "ButtonView",
       "button_style": "primary",
       "description": "Clear",
       "disabled": false,
       "icon": "",
       "layout": "IPY_MODEL_f6a39516121743099bece32bc0c3c696",
       "style": "IPY_MODEL_40a8f99fef5b4aad89f533edcb091c3f",
       "tooltip": ""
      }
     },
     "eef64edafd8f47c885da65fa3ca0ab8a": {
      "model_module": "@jupyter-widgets/controls",
      "model_module_version": "1.5.0",
      "model_name": "HTMLModel",
      "state": {
       "_dom_classes": [],
       "_model_module": "@jupyter-widgets/controls",
       "_model_module_version": "1.5.0",
       "_model_name": "HTMLModel",
       "_view_count": null,
       "_view_module": "@jupyter-widgets/controls",
       "_view_module_version": "1.5.0",
       "_view_name": "HTMLView",
       "description": "",
       "description_tooltip": null,
       "layout": "IPY_MODEL_ef270ca07615429ab689824b66fdb1ff",
       "placeholder": "​",
       "style": "IPY_MODEL_17046f96803d48aa8c63b99a5c89e6f3",
       "value": "<h5>Queue</h5>"
      }
     },
     "ef270ca07615429ab689824b66fdb1ff": {
      "model_module": "@jupyter-widgets/base",
      "model_module_version": "1.2.0",
      "model_name": "LayoutModel",
      "state": {
       "_model_module": "@jupyter-widgets/base",
       "_model_module_version": "1.2.0",
       "_model_name": "LayoutModel",
       "_view_count": null,
       "_view_module": "@jupyter-widgets/base",
       "_view_module_version": "1.2.0",
       "_view_name": "LayoutView",
       "align_content": null,
       "align_items": null,
       "align_self": null,
       "border": null,
       "bottom": null,
       "display": null,
       "flex": null,
       "flex_flow": null,
       "grid_area": null,
       "grid_auto_columns": null,
       "grid_auto_flow": null,
       "grid_auto_rows": null,
       "grid_column": null,
       "grid_gap": null,
       "grid_row": null,
       "grid_template_areas": null,
       "grid_template_columns": null,
       "grid_template_rows": null,
       "height": null,
       "justify_content": null,
       "justify_items": null,
       "left": null,
       "margin": null,
       "max_height": null,
       "max_width": null,
       "min_height": null,
       "min_width": null,
       "object_fit": null,
       "object_position": null,
       "order": null,
       "overflow": null,
       "overflow_x": null,
       "overflow_y": null,
       "padding": null,
       "right": null,
       "top": null,
       "visibility": null,
       "width": "70px"
      }
     },
     "f0e6a746eff140269e915ef65de640c7": {
      "model_module": "@jupyter-widgets/base",
      "model_module_version": "1.2.0",
      "model_name": "LayoutModel",
      "state": {
       "_model_module": "@jupyter-widgets/base",
       "_model_module_version": "1.2.0",
       "_model_name": "LayoutModel",
       "_view_count": null,
       "_view_module": "@jupyter-widgets/base",
       "_view_module_version": "1.2.0",
       "_view_name": "LayoutView",
       "align_content": null,
       "align_items": null,
       "align_self": null,
       "border": null,
       "bottom": null,
       "display": null,
       "flex": null,
       "flex_flow": null,
       "grid_area": null,
       "grid_auto_columns": null,
       "grid_auto_flow": null,
       "grid_auto_rows": null,
       "grid_column": null,
       "grid_gap": null,
       "grid_row": null,
       "grid_template_areas": null,
       "grid_template_columns": null,
       "grid_template_rows": null,
       "height": null,
       "justify_content": null,
       "justify_items": null,
       "left": null,
       "margin": null,
       "max_height": null,
       "max_width": null,
       "min_height": null,
       "min_width": null,
       "object_fit": null,
       "object_position": null,
       "order": null,
       "overflow": null,
       "overflow_x": null,
       "overflow_y": null,
       "padding": null,
       "right": null,
       "top": null,
       "visibility": null,
       "width": "95px"
      }
     },
     "f6a39516121743099bece32bc0c3c696": {
      "model_module": "@jupyter-widgets/base",
      "model_module_version": "1.2.0",
      "model_name": "LayoutModel",
      "state": {
       "_model_module": "@jupyter-widgets/base",
       "_model_module_version": "1.2.0",
       "_model_name": "LayoutModel",
       "_view_count": null,
       "_view_module": "@jupyter-widgets/base",
       "_view_module_version": "1.2.0",
       "_view_name": "LayoutView",
       "align_content": null,
       "align_items": null,
       "align_self": null,
       "border": null,
       "bottom": null,
       "display": null,
       "flex": null,
       "flex_flow": null,
       "grid_area": "right",
       "grid_auto_columns": null,
       "grid_auto_flow": null,
       "grid_auto_rows": null,
       "grid_column": null,
       "grid_gap": null,
       "grid_row": null,
       "grid_template_areas": null,
       "grid_template_columns": null,
       "grid_template_rows": null,
       "height": null,
       "justify_content": null,
       "justify_items": null,
       "left": null,
       "margin": null,
       "max_height": null,
       "max_width": null,
       "min_height": null,
       "min_width": null,
       "object_fit": null,
       "object_position": null,
       "order": null,
       "overflow": null,
       "overflow_x": null,
       "overflow_y": null,
       "padding": "0px 0px 0px 0px",
       "right": null,
       "top": null,
       "visibility": null,
       "width": "70px"
      }
     },
     "fc018f99fbb44aa9beb54a8e6be5209e": {
      "model_module": "@jupyter-widgets/base",
      "model_module_version": "1.2.0",
      "model_name": "LayoutModel",
      "state": {
       "_model_module": "@jupyter-widgets/base",
       "_model_module_version": "1.2.0",
       "_model_name": "LayoutModel",
       "_view_count": null,
       "_view_module": "@jupyter-widgets/base",
       "_view_module_version": "1.2.0",
       "_view_name": "LayoutView",
       "align_content": null,
       "align_items": null,
       "align_self": null,
       "border": null,
       "bottom": null,
       "display": null,
       "flex": null,
       "flex_flow": null,
       "grid_area": null,
       "grid_auto_columns": null,
       "grid_auto_flow": null,
       "grid_auto_rows": null,
       "grid_column": null,
       "grid_gap": null,
       "grid_row": null,
       "grid_template_areas": null,
       "grid_template_columns": null,
       "grid_template_rows": null,
       "height": null,
       "justify_content": null,
       "justify_items": null,
       "left": null,
       "margin": "0px 0px 0px 37px",
       "max_height": null,
       "max_width": null,
       "min_height": null,
       "min_width": null,
       "object_fit": null,
       "object_position": null,
       "order": null,
       "overflow": null,
       "overflow_x": null,
       "overflow_y": null,
       "padding": null,
       "right": null,
       "top": null,
       "visibility": null,
       "width": "600px"
      }
     }
    },
    "version_major": 2,
    "version_minor": 0
   }
  }
 },
 "nbformat": 4,
 "nbformat_minor": 2
}
